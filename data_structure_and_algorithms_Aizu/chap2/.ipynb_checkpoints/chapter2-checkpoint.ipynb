{
 "cells": [
  {
   "cell_type": "markdown",
   "metadata": {},
   "source": [
    "## 2.2 問題とアルゴリズムの例\n",
    "__問題__\n",
    "\n",
    "10人分のプレイヤーの得点が記録されたデータを読み込んで，その中から上位3人の得点を順に出力\n",
    "してください．ただし，特典は100点満点とします．"
   ]
  },
  {
   "cell_type": "code",
   "execution_count": 1,
   "metadata": {
    "collapsed": true
   },
   "outputs": [],
   "source": [
    "import numpy as np"
   ]
  },
  {
   "cell_type": "code",
   "execution_count": 2,
   "metadata": {},
   "outputs": [
    {
     "data": {
      "text/plain": [
       "array([79, 39, 35])"
      ]
     },
     "execution_count": 2,
     "metadata": {},
     "output_type": "execute_result"
    }
   ],
   "source": [
    "num_list = np.random.randint(1, 100, size=10)\n",
    "np.sort(num_list)[::-1][:3]"
   ]
  },
  {
   "cell_type": "markdown",
   "metadata": {},
   "source": [
    "## 2.5 導入問題"
   ]
  },
  {
   "cell_type": "code",
   "execution_count": 81,
   "metadata": {},
   "outputs": [
    {
     "data": {
      "text/plain": [
       "array([ 83,  85,  90, 109,  82,  82, 109,  86, 107, 128,  90, 106, 113,\n",
       "       124,  94,  88, 125, 102, 109, 121, 112, 100, 124, 112, 103,  85,\n",
       "        92,  82, 112,  81, 113, 119, 126, 121, 111, 107, 114,  97, 100,\n",
       "       111,  87, 129,  93, 118,  90,  98, 123,  92, 108, 109])"
      ]
     },
     "execution_count": 81,
     "metadata": {},
     "output_type": "execute_result"
    }
   ],
   "source": [
    "fx_list = np.random.randint(80, 130, size=50)\n",
    "fx_list"
   ]
  },
  {
   "cell_type": "code",
   "execution_count": 86,
   "metadata": {},
   "outputs": [],
   "source": [
    "def calc_max_diff(fx_list):\n",
    "    num_min = min(fx_list)\n",
    "    lowest_1st_idx = np.where(fx_list==num_min)[0][0]\n",
    "    tmp_list = fx_list[lowest_1st_idx:]\n",
    "    num_max = max(tmp_list)\n",
    "    largest_1st_idx = np.where(tmp_list==num_max)[0][0]\n",
    "    max_diff = fx_list[lowest_1st_idx + largest_1st_idx] - fx_list[lowest_1st_idx]\n",
    "    return max_diff"
   ]
  },
  {
   "cell_type": "code",
   "execution_count": 93,
   "metadata": {},
   "outputs": [
    {
     "data": {
      "text/plain": [
       "3"
      ]
     },
     "execution_count": 93,
     "metadata": {},
     "output_type": "execute_result"
    }
   ],
   "source": [
    "calc_max_diff(fx_list)"
   ]
  },
  {
   "cell_type": "code",
   "execution_count": 90,
   "metadata": {
    "collapsed": true
   },
   "outputs": [],
   "source": [
    "fx_list = np.array([3,4,3,2])"
   ]
  },
  {
   "cell_type": "code",
   "execution_count": 92,
   "metadata": {
    "collapsed": true
   },
   "outputs": [],
   "source": [
    "fx_list = np.array([6,5,3,1,3,4,3])"
   ]
  }
 ],
 "metadata": {
  "kernelspec": {
   "display_name": "Python 3",
   "language": "python",
   "name": "python3"
  },
  "language_info": {
   "codemirror_mode": {
    "name": "ipython",
    "version": 3
   },
   "file_extension": ".py",
   "mimetype": "text/x-python",
   "name": "python",
   "nbconvert_exporter": "python",
   "pygments_lexer": "ipython3",
   "version": "3.6.2"
  },
  "toc": {
   "base_numbering": 1,
   "nav_menu": {},
   "number_sections": true,
   "sideBar": true,
   "skip_h1_title": false,
   "title_cell": "Table of Contents",
   "title_sidebar": "Contents",
   "toc_cell": false,
   "toc_position": {},
   "toc_section_display": true,
   "toc_window_display": false
  }
 },
 "nbformat": 4,
 "nbformat_minor": 2
}
