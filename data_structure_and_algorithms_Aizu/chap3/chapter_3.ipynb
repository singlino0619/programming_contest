{
 "cells": [
  {
   "cell_type": "markdown",
   "metadata": {},
   "source": [
    "## 3.1 ソート：問題にチャレンジする前に\n",
    "- 計算量と安定性\n",
    "- データの列を保持する1つの配列以外にメモリが必要にならないか\n",
    "- 入力データの特徴が計算量に影響しないか\n",
    "\n",
    "## 3.2 挿入ソート"
   ]
  },
  {
   "cell_type": "code",
   "execution_count": 45,
   "metadata": {
    "collapsed": true
   },
   "outputs": [],
   "source": [
    "import pandas as pd\n",
    "import numpy as np\n",
    "import random"
   ]
  },
  {
   "cell_type": "code",
   "execution_count": 46,
   "metadata": {},
   "outputs": [],
   "source": [
    "rand_list = np.random.choice(np.arange(100), 100, replace=False)"
   ]
  },
  {
   "cell_type": "code",
   "execution_count": 47,
   "metadata": {},
   "outputs": [
    {
     "data": {
      "text/plain": [
       "array([98, 32, 35,  8, 75, 56, 16,  4, 23, 69, 38, 45, 97, 58, 30, 84, 83,\n",
       "       39, 88, 41, 37, 46, 62, 40, 53, 26, 63, 13,  5, 55, 42, 61, 90, 54,\n",
       "       36, 47, 52, 70, 24, 15, 50,  3,  9, 18, 86, 79, 99,  1, 80, 77, 22,\n",
       "       28, 91, 81, 34, 51, 19, 74, 57,  2, 12, 82, 64, 10, 67, 17, 66, 31,\n",
       "       96, 94, 33, 68, 20, 11, 65, 43, 25, 14,  0, 27, 87, 85,  7, 76, 60,\n",
       "       93, 72, 95, 49, 29, 21, 71, 89,  6, 92, 59, 73, 78, 44, 48])"
      ]
     },
     "execution_count": 47,
     "metadata": {},
     "output_type": "execute_result"
    }
   ],
   "source": [
    "rand_list"
   ]
  },
  {
   "cell_type": "code",
   "execution_count": 41,
   "metadata": {},
   "outputs": [],
   "source": [
    "N = 10\n",
    "for i in range(N -1):\n",
    "    vec = rand_list[i]\n",
    "    j = i - 1\n",
    "    while j >= 0 and rand_list[j] > vec:\n",
    "        rand_list[j+1] = rand_list[j]\n",
    "        j -= 1\n",
    "    rand_list[j+1] = vec"
   ]
  },
  {
   "cell_type": "code",
   "execution_count": 42,
   "metadata": {},
   "outputs": [
    {
     "data": {
      "text/plain": [
       "array([ 0,  1,  2,  3,  4,  5,  6,  7,  8,  9, 10, 11, 12, 13, 14, 15, 16,\n",
       "       17, 18, 19, 20, 21, 22, 23, 24, 25, 26, 27, 28, 29, 30, 31, 32, 33,\n",
       "       34, 35, 36, 37, 38, 39, 40, 41, 42, 43, 44, 45, 46, 47, 48, 49, 50,\n",
       "       51, 52, 53, 54, 55, 56, 57, 58, 59, 60, 61, 62, 63, 64, 65, 66, 67,\n",
       "       68, 69, 70, 71, 72, 73, 74, 75, 76, 77, 78, 79, 80, 81, 82, 83, 84,\n",
       "       86, 87, 88, 89, 90, 91, 92, 93, 94, 95, 96, 97, 98, 99, 85])"
      ]
     },
     "execution_count": 42,
     "metadata": {},
     "output_type": "execute_result"
    }
   ],
   "source": [
    "rand_list"
   ]
  },
  {
   "cell_type": "code",
   "execution_count": 49,
   "metadata": {
    "collapsed": true
   },
   "outputs": [],
   "source": [
    "def insertion_sort(num_array):\n",
    "    len_array = len(num_array)\n",
    "    for i in range(len_array):\n",
    "        value = num_array[i]\n",
    "        j = i - 1\n",
    "        while j >= 0 and num_array[j] > value:\n",
    "            num_array[j+1] = num_array[j]\n",
    "            j -= 1\n",
    "        num_array[j+1] = value\n",
    "    return num_array"
   ]
  },
  {
   "cell_type": "code",
   "execution_count": 50,
   "metadata": {},
   "outputs": [
    {
     "data": {
      "text/plain": [
       "array([ 0,  1,  2,  3,  4,  5,  6,  7,  8,  9, 10, 11, 12, 13, 14, 15, 16,\n",
       "       17, 18, 19, 20, 21, 22, 23, 24, 25, 26, 27, 28, 29, 30, 31, 32, 33,\n",
       "       34, 35, 36, 37, 38, 39, 40, 41, 42, 43, 44, 45, 46, 47, 48, 49, 50,\n",
       "       51, 52, 53, 54, 55, 56, 57, 58, 59, 60, 61, 62, 63, 64, 65, 66, 67,\n",
       "       68, 69, 70, 71, 72, 73, 74, 75, 76, 77, 78, 79, 80, 81, 82, 83, 84,\n",
       "       85, 86, 87, 88, 89, 90, 91, 92, 93, 94, 95, 96, 97, 98, 99])"
      ]
     },
     "execution_count": 50,
     "metadata": {},
     "output_type": "execute_result"
    }
   ],
   "source": [
    "insertion_sort(rand_list)"
   ]
  },
  {
   "cell_type": "code",
   "execution_count": 61,
   "metadata": {
    "collapsed": true
   },
   "outputs": [],
   "source": [
    "rand_list = np.random.randint(0, 100, 100)"
   ]
  },
  {
   "cell_type": "code",
   "execution_count": 63,
   "metadata": {},
   "outputs": [
    {
     "data": {
      "text/plain": [
       "array([ 0,  1,  1,  2,  2,  2,  3,  4,  4,  5,  6,  9,  9, 10, 10, 11, 13,\n",
       "       14, 15, 15, 16, 18, 18, 19, 19, 20, 21, 22, 24, 24, 24, 24, 27, 27,\n",
       "       28, 29, 29, 34, 34, 35, 35, 36, 37, 38, 38, 39, 41, 41, 41, 42, 46,\n",
       "       46, 46, 48, 49, 50, 51, 52, 52, 53, 54, 54, 54, 57, 58, 58, 61, 62,\n",
       "       62, 64, 65, 67, 70, 70, 70, 72, 73, 75, 75, 76, 76, 77, 77, 79, 79,\n",
       "       80, 83, 84, 84, 87, 87, 88, 88, 90, 91, 93, 94, 95, 97, 97])"
      ]
     },
     "execution_count": 63,
     "metadata": {},
     "output_type": "execute_result"
    }
   ],
   "source": [
    "insertion_sort(rand_list)"
   ]
  },
  {
   "cell_type": "code",
   "execution_count": null,
   "metadata": {
    "collapsed": true
   },
   "outputs": [],
   "source": [
    "np"
   ]
  }
 ],
 "metadata": {
  "kernelspec": {
   "display_name": "Python 3",
   "language": "python",
   "name": "python3"
  },
  "language_info": {
   "codemirror_mode": {
    "name": "ipython",
    "version": 3
   },
   "file_extension": ".py",
   "mimetype": "text/x-python",
   "name": "python",
   "nbconvert_exporter": "python",
   "pygments_lexer": "ipython3",
   "version": "3.6.2"
  },
  "toc": {
   "base_numbering": 1,
   "nav_menu": {},
   "number_sections": true,
   "sideBar": true,
   "skip_h1_title": false,
   "title_cell": "Table of Contents",
   "title_sidebar": "Contents",
   "toc_cell": false,
   "toc_position": {},
   "toc_section_display": true,
   "toc_window_display": false
  }
 },
 "nbformat": 4,
 "nbformat_minor": 2
}
